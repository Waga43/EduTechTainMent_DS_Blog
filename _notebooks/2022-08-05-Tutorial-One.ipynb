{
 "cells": [
  {
   "cell_type": "markdown",
   "id": "b4e11404",
   "metadata": {},
   "source": [
    "# Write a Python Program to Automatically Open Twitter Shortened Links\n",
    "> \"Python EduTechTainMent 1\"\n",
    "\n",
    "- toc: true\n",
    "- branch: master\n",
    "- badges: true\n",
    "- comments: true\n",
    "- categories: [python, jupyter]\n",
    "- image: images/Edutechtainment.jpg\n",
    "- hide: false\n",
    "- search_exclude: true"
   ]
  },
  {
   "cell_type": "markdown",
   "metadata": {},
   "source": [
    "## Introduction\n",
    "\n",
    "This python code was inspired by my repeated failure to access links shared on Twitter. I have had to use alternative methods to expose the main/destination links pointed to by the Twitter shortened URLs. Have you ever experienced same? Perhaps the picture below will give more context."
   ]
  },
  {
   "cell_type": "markdown",
   "id": "22b19fbe",
   "metadata": {},
   "source": [
    "![](https://add.pics/images/2022/08/05/TwitterFailed.jpg \"Photo credit: EduTechTainMent\")"
   ]
  },
  {
   "cell_type": "markdown",
   "id": "8477f3e2",
   "metadata": {},
   "source": [
    "## Skills you will use/learn to use\n",
    "\n",
    "The following code challenge will enable you to practice: \n",
    "\n",
    "1. Use of requests library to send HTTP requests.\n",
    "2. Use of regular expressions.\n",
    "3. Use python to interact with the clipboard.\n",
    "4. Use of Python `if-else`, and `try-except` statements to control program flow"
   ]
  },
  {
   "cell_type": "markdown",
   "id": "cf9ce885",
   "metadata": {},
   "source": [
    "## Task Description\n",
    "\n",
    "Create a Python Code to do the following:\n",
    "\n",
    "1. Check if the shortened URL expander website is live.\n",
    "2. Use the pyperclip module to interact with the clipboard.\n",
    "3. If there is no link on the clipboard, prompt the user to type a shortened Twitter URL.\n",
    "4. Ensure checks using the re module to ensure only Twitter shortened links with `t.co` is accepted.\n",
    "5. Give the program only two attempts before exiting.\n",
    "6. Use the webbrowser module to automatically open the full link.\n"
   ]
  },
  {
   "cell_type": "markdown",
   "id": "c1556065",
   "metadata": {},
   "source": [
    "## Install requirements"
   ]
  },
  {
   "cell_type": "code",
   "execution_count": 8,
   "id": "17a1a822",
   "metadata": {
    "ExecuteTime": {
     "end_time": "2022-08-05T17:24:45.370032Z",
     "start_time": "2022-08-05T17:24:45.363443Z"
    }
   },
   "outputs": [],
   "source": [
    "#collapse-show\n",
    "import requests # For sending http requests via python\n",
    "import re # To help match or find strings or sets of strings \n",
    "import webbrowser # To open a web broswer by default\n",
    "import pyperclip # To interact with the clipboard"
   ]
  },
  {
   "cell_type": "markdown",
   "id": "bf280b21",
   "metadata": {},
   "source": [
    "## Twitter Shortened Link We shall be using for this Project"
   ]
  },
  {
   "cell_type": "code",
   "execution_count": null,
   "id": "06fccf53",
   "metadata": {},
   "outputs": [],
   "source": [
    "#collapse-hide\n",
    "\n",
    "`https://t.co/UQK0XEf4G9`"
   ]
  },
  {
   "cell_type": "markdown",
   "id": "b27aabf5",
   "metadata": {},
   "source": [
    "## Main Program\n",
    "\n",
    "Hit on the `Show` button below to expand and view the full code.\n",
    "\n",
    "\n",
    "\n",
    "> Warning: First try writing out the code yourself before viewing the answer. Learn to Code by Coding!!!"
   ]
  },
  {
   "cell_type": "code",
   "execution_count": 25,
   "id": "607d4169",
   "metadata": {
    "ExecuteTime": {
     "end_time": "2022-08-05T17:42:22.400126Z",
     "start_time": "2022-08-05T17:41:29.141589Z"
    }
   },
   "outputs": [
    {
     "name": "stdout",
     "output_type": "stream",
     "text": [
      "\n",
      "\n",
      "The shortened URL expander link is live. You can proceed!\n",
      "\n",
      "\n",
      "Please type the short_url you want to open: \n",
      "\n",
      ">>>  https://t.co/UQK0XEf4G9\n",
      "\n",
      "\n",
      "✅ Valid input!!. Let's proceed to the site! ✅\n",
      "\n",
      "\n"
     ]
    },
    {
     "data": {
      "text/plain": [
       "True"
      ]
     },
     "execution_count": 25,
     "metadata": {},
     "output_type": "execute_result"
    }
   ],
   "source": [
    "#collapse-hide\n",
    "\n",
    "# Let's begin coding\n",
    "\n",
    "# The base url of the URL shortening website\n",
    "base_url = \"http://checkshorturl.com/\"\n",
    "\n",
    "# Next we shall make an http get request\n",
    "response = requests.get(base_url)\n",
    "\n",
    "# Check the reponse obtained from the get request above\n",
    "check_base_url = response.ok\n",
    "print(f\"The response obtained by the get request is {check_base_url}\")\n",
    "\n",
    "if check_base_url == True:\n",
    "    print(\"\\n\\nThe shortened URL expander link is live. You can proceed!\\n\\n\")\n",
    "    print(\"You have 15 seconds to copy a shortened Twitter URL to the clipboard\\n\\n\")\n",
    "    print(\"You can use the shortened link below to test the code\\n\\n\")\n",
    "    \n",
    "    # Check if there is a link copied to the clipboard.\n",
    "    # Wait for 15 minutes to anabke the user to copy a link to the clipboard \n",
    "    # and use the copied link\n",
    "\n",
    "    try:\n",
    "        if pyperclip.waitForNewPaste(15):\n",
    "            print(\"Shortened URL pasted from clipboard\")\n",
    "            short_url = pyperclip.paste()\n",
    "\n",
    "    # If the program doesn't get any link copied to the clipboard      \n",
    "    except pyperclip.PyperclipTimeoutException:\n",
    "        short_url = input(\"Please type the short_url you want to open: \\n\\n>>>  \")\n",
    "\n",
    "# Gives the below output if the URL shortener website isn't live\n",
    "else:\n",
    "    print(\"Please use another shortened URL expander link or wait for it to come back on!\")\n",
    "\n",
    "# Use regular expression to check that the shortened URL is a Twitter shortened link.   \n",
    "# Do this by checking to see if the URL contained the \"t.co\" alphanumerics\n",
    "if re.search(r't.co', short_url):\n",
    "        print(\"\\n\\n✅ Valid input!!. Let's proceed to the site! ✅\\n\\n\")\n",
    "\n",
    "        # Generate a full URL from the concatenation of both base_url and short_url\n",
    "        full_url = base_url + \"expand.php?u=\" + short_url\n",
    "\n",
    "        # Open the full_url link automatically\n",
    "        webbrowser.open(full_url)\n",
    "        \n",
    "# Run the following if the user provided a non-Twitter shortened link        \n",
    "else:\n",
    "        print(\"\\n\\n🚫 Invalid input!!! 🚫\\n\\nPls enter a valid shortened URL.\\n\\nLet's try one last time\")\n",
    "        \n",
    "        # Prompt the user to type a valid Twitter shortened link\n",
    "        short_url = input(\"Please type the short_url you want to open: \\n\\n>>>\")\n",
    "\n",
    "        # Again check for the second time to ensure that the link is valid\n",
    "        # If invalid again, terminate the program after notifying the user\n",
    "        if re.search(r't.co', short_url):\n",
    "            print(\"\\n\\n✅ Valid input. Let's proceed! ✅\")\n",
    "            \n",
    "            # Generate a full URL from the concatenation of both base_url and short_url\n",
    "            full_url = base_url + \"expand.php?u=\" + short_url\n",
    "\n",
    "            # Open the full_url link automatically\n",
    "            webbrowser.open(full_url)\n",
    "\n",
    "        # Terminate the program if the link is invalid\n",
    "        else:\n",
    "            print(\"\\n\\n🚫 🚫 Another invalid input! 🚫 🚫\\n\\n ❌ PROGRAM TERMINATED!!! ❌\")"
   ]
  },
  {
   "cell_type": "code",
   "execution_count": null,
   "id": "fc135fd6",
   "metadata": {},
   "outputs": [],
   "source": [
    "#collapse-show\n",
    "\n",
    "`https://t.co/UQK0XEf4G9`"
   ]
  },
  {
   "cell_type": "markdown",
   "id": "31ae1375",
   "metadata": {},
   "source": [
    "> Warning: Disclosure About the Codes"
   ]
  },
  {
   "cell_type": "markdown",
   "id": "36974934",
   "metadata": {},
   "source": [
    "## Skills not Covered\n",
    "\n",
    "> Important: Please note the following:\n",
    "\n",
    "\n",
    "\n",
    "Reading this code, we can easily see how long the code is and that there is some degree of repetitive coding. \n",
    "\n",
    "I intentionally left out the use of `while` statements and `python functions`. Using them would have made the code more intuitive. Using these will make our codes better. \n",
    "\n",
    "Not to worry though, it's a learning process. we shall fine tune this code next time to see how best we can improve the code. There is so much more we can do with this. We just have to be imaginative. For example, we can write a python script extract the exact destination address of the Twitter shortened links using Web Scraping. Aren't you excited to learn about this? I am !!!\n",
    "\n",
    "The codes are written this way to ensure beginners to Python programming will understand some fundamental important concepts before diving deeper."
   ]
  },
  {
   "cell_type": "markdown",
   "id": "66b6c089",
   "metadata": {},
   "source": [
    "> Tip: You can go ahead and try out re-writing this code using Python function and `while` statements.\n",
    "\n",
    "\n",
    "\n",
    "You can share your comments on here or on Twitter. Do you know of a better way to implement this? I am open to learning from anyone and everyone. No one knows it all.\n"
   ]
  },
  {
   "cell_type": "markdown",
   "id": "dcbd4fe3",
   "metadata": {},
   "source": [
    "---"
   ]
  },
  {
   "cell_type": "markdown",
   "id": "97480f3c",
   "metadata": {},
   "source": [
    "> twitter: https://twitter.com/EduTech_TM/status/1555683283559763977?t=n-SySxYrxB58bFCww_jD0w&s=35"
   ]
  },
  {
   "cell_type": "markdown",
   "id": "bcd024dd",
   "metadata": {},
   "source": [
    "---"
   ]
  },
  {
   "cell_type": "markdown",
   "id": "259b0c3a",
   "metadata": {},
   "source": [
    "> youtube: https://www.youtube.com/channel/UCAe5662cWJF5NW851ylT-qw"
   ]
  },
  {
   "cell_type": "markdown",
   "id": "38147551",
   "metadata": {},
   "source": [
    "## Conclusion\n",
    "\n",
    "Hope you found this coding exercise interesting. More exercises coming up to help us practice and get better at it. \n",
    "\n",
    "\n",
    "> Important: ⌨️ Let's learn Coding by Coding 🖥"
   ]
  }
 ],
 "metadata": {
  "kernelspec": {
   "display_name": "Python 3 (ipykernel)",
   "language": "python",
   "name": "python3"
  },
  "language_info": {
   "codemirror_mode": {
    "name": "ipython",
    "version": 3
   },
   "file_extension": ".py",
   "mimetype": "text/x-python",
   "name": "python",
   "nbconvert_exporter": "python",
   "pygments_lexer": "ipython3",
   "version": "3.9.7"
  },
  "toc": {
   "base_numbering": 1,
   "nav_menu": {},
   "number_sections": true,
   "sideBar": true,
   "skip_h1_title": false,
   "title_cell": "Table of Contents",
   "title_sidebar": "Contents",
   "toc_cell": false,
   "toc_position": {},
   "toc_section_display": true,
   "toc_window_display": true
  },
  "varInspector": {
   "cols": {
    "lenName": 16,
    "lenType": 16,
    "lenVar": 40
   },
   "kernels_config": {
    "python": {
     "delete_cmd_postfix": "",
     "delete_cmd_prefix": "del ",
     "library": "var_list.py",
     "varRefreshCmd": "print(var_dic_list())"
    },
    "r": {
     "delete_cmd_postfix": ") ",
     "delete_cmd_prefix": "rm(",
     "library": "var_list.r",
     "varRefreshCmd": "cat(var_dic_list()) "
    }
   },
   "types_to_exclude": [
    "module",
    "function",
    "builtin_function_or_method",
    "instance",
    "_Feature"
   ],
   "window_display": false
  }
 },
 "nbformat": 4,
 "nbformat_minor": 5
}
